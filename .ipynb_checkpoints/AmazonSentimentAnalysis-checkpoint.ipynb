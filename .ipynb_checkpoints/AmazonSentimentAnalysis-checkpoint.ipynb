{
 "cells": [
  {
   "cell_type": "markdown",
   "id": "775f6356",
   "metadata": {},
   "source": [
    " ##### Sentiment analysis is the interpretation and classification of text-based data. The point of this analysis is to categorize each data-point into a class that represents its quality (positive, negative, etc.). Sentiment analysis focuses on the polarity, emotions, and intentions of authors. Classic sentiment analysis consists of the following steps: preprocessing, training, feature extraction,and classification."
   ]
  },
  {
   "cell_type": "markdown",
   "id": "ef655b0d",
   "metadata": {},
   "source": [
    "### Importing data from sqlite database"
   ]
  },
  {
   "cell_type": "code",
   "execution_count": 1323,
   "id": "bef9d40c",
   "metadata": {},
   "outputs": [],
   "source": [
    "import pandas as pd"
   ]
  },
  {
   "cell_type": "code",
   "execution_count": 1324,
   "id": "63c12a73",
   "metadata": {},
   "outputs": [],
   "source": [
    "import numpy as np\n",
    "import matplotlib.pyplot as plt\n",
    "import seaborn as sns"
   ]
  },
  {
   "cell_type": "code",
   "execution_count": 1325,
   "id": "2278a963",
   "metadata": {},
   "outputs": [],
   "source": [
    "import sqlite3"
   ]
  },
  {
   "cell_type": "code",
   "execution_count": 1326,
   "id": "54684faa",
   "metadata": {},
   "outputs": [],
   "source": [
    "con= sqlite3.connect(r\"C:\\Users\\dines\\Downloads\\database.sqlite\")"
   ]
  },
  {
   "cell_type": "code",
   "execution_count": 1327,
   "id": "700a8372",
   "metadata": {},
   "outputs": [],
   "source": [
    "df= pd.read_sql_query('SELECT* FROM Reviews',con)"
   ]
  },
  {
   "cell_type": "code",
   "execution_count": 1328,
   "id": "dc757e14",
   "metadata": {},
   "outputs": [
    {
     "data": {
      "text/plain": [
       "(568454, 10)"
      ]
     },
     "execution_count": 1328,
     "metadata": {},
     "output_type": "execute_result"
    }
   ],
   "source": [
    "df.shape"
   ]
  },
  {
   "cell_type": "code",
   "execution_count": 1329,
   "id": "2776da1f",
   "metadata": {},
   "outputs": [
    {
     "data": {
      "text/plain": [
       "Index(['Id', 'ProductId', 'UserId', 'ProfileName', 'HelpfulnessNumerator',\n",
       "       'HelpfulnessDenominator', 'Score', 'Time', 'Summary', 'Text'],\n",
       "      dtype='object')"
      ]
     },
     "execution_count": 1329,
     "metadata": {},
     "output_type": "execute_result"
    }
   ],
   "source": [
    "df.columns"
   ]
  },
  {
   "cell_type": "code",
   "execution_count": 1330,
   "id": "eba4807d",
   "metadata": {},
   "outputs": [
    {
     "data": {
      "text/html": [
       "<div>\n",
       "<style scoped>\n",
       "    .dataframe tbody tr th:only-of-type {\n",
       "        vertical-align: middle;\n",
       "    }\n",
       "\n",
       "    .dataframe tbody tr th {\n",
       "        vertical-align: top;\n",
       "    }\n",
       "\n",
       "    .dataframe thead th {\n",
       "        text-align: right;\n",
       "    }\n",
       "</style>\n",
       "<table border=\"1\" class=\"dataframe\">\n",
       "  <thead>\n",
       "    <tr style=\"text-align: right;\">\n",
       "      <th></th>\n",
       "      <th>Id</th>\n",
       "      <th>ProductId</th>\n",
       "      <th>UserId</th>\n",
       "      <th>ProfileName</th>\n",
       "      <th>HelpfulnessNumerator</th>\n",
       "      <th>HelpfulnessDenominator</th>\n",
       "      <th>Score</th>\n",
       "      <th>Time</th>\n",
       "      <th>Summary</th>\n",
       "      <th>Text</th>\n",
       "    </tr>\n",
       "  </thead>\n",
       "  <tbody>\n",
       "    <tr>\n",
       "      <th>0</th>\n",
       "      <td>1</td>\n",
       "      <td>B001E4KFG0</td>\n",
       "      <td>A3SGXH7AUHU8GW</td>\n",
       "      <td>delmartian</td>\n",
       "      <td>1</td>\n",
       "      <td>1</td>\n",
       "      <td>5</td>\n",
       "      <td>1303862400</td>\n",
       "      <td>Good Quality Dog Food</td>\n",
       "      <td>I have bought several of the Vitality canned d...</td>\n",
       "    </tr>\n",
       "    <tr>\n",
       "      <th>1</th>\n",
       "      <td>2</td>\n",
       "      <td>B00813GRG4</td>\n",
       "      <td>A1D87F6ZCVE5NK</td>\n",
       "      <td>dll pa</td>\n",
       "      <td>0</td>\n",
       "      <td>0</td>\n",
       "      <td>1</td>\n",
       "      <td>1346976000</td>\n",
       "      <td>Not as Advertised</td>\n",
       "      <td>Product arrived labeled as Jumbo Salted Peanut...</td>\n",
       "    </tr>\n",
       "    <tr>\n",
       "      <th>2</th>\n",
       "      <td>3</td>\n",
       "      <td>B000LQOCH0</td>\n",
       "      <td>ABXLMWJIXXAIN</td>\n",
       "      <td>Natalia Corres \"Natalia Corres\"</td>\n",
       "      <td>1</td>\n",
       "      <td>1</td>\n",
       "      <td>4</td>\n",
       "      <td>1219017600</td>\n",
       "      <td>\"Delight\" says it all</td>\n",
       "      <td>This is a confection that has been around a fe...</td>\n",
       "    </tr>\n",
       "    <tr>\n",
       "      <th>3</th>\n",
       "      <td>4</td>\n",
       "      <td>B000UA0QIQ</td>\n",
       "      <td>A395BORC6FGVXV</td>\n",
       "      <td>Karl</td>\n",
       "      <td>3</td>\n",
       "      <td>3</td>\n",
       "      <td>2</td>\n",
       "      <td>1307923200</td>\n",
       "      <td>Cough Medicine</td>\n",
       "      <td>If you are looking for the secret ingredient i...</td>\n",
       "    </tr>\n",
       "    <tr>\n",
       "      <th>4</th>\n",
       "      <td>5</td>\n",
       "      <td>B006K2ZZ7K</td>\n",
       "      <td>A1UQRSCLF8GW1T</td>\n",
       "      <td>Michael D. Bigham \"M. Wassir\"</td>\n",
       "      <td>0</td>\n",
       "      <td>0</td>\n",
       "      <td>5</td>\n",
       "      <td>1350777600</td>\n",
       "      <td>Great taffy</td>\n",
       "      <td>Great taffy at a great price.  There was a wid...</td>\n",
       "    </tr>\n",
       "  </tbody>\n",
       "</table>\n",
       "</div>"
      ],
      "text/plain": [
       "   Id   ProductId          UserId                      ProfileName  \\\n",
       "0   1  B001E4KFG0  A3SGXH7AUHU8GW                       delmartian   \n",
       "1   2  B00813GRG4  A1D87F6ZCVE5NK                           dll pa   \n",
       "2   3  B000LQOCH0   ABXLMWJIXXAIN  Natalia Corres \"Natalia Corres\"   \n",
       "3   4  B000UA0QIQ  A395BORC6FGVXV                             Karl   \n",
       "4   5  B006K2ZZ7K  A1UQRSCLF8GW1T    Michael D. Bigham \"M. Wassir\"   \n",
       "\n",
       "   HelpfulnessNumerator  HelpfulnessDenominator  Score        Time  \\\n",
       "0                     1                       1      5  1303862400   \n",
       "1                     0                       0      1  1346976000   \n",
       "2                     1                       1      4  1219017600   \n",
       "3                     3                       3      2  1307923200   \n",
       "4                     0                       0      5  1350777600   \n",
       "\n",
       "                 Summary                                               Text  \n",
       "0  Good Quality Dog Food  I have bought several of the Vitality canned d...  \n",
       "1      Not as Advertised  Product arrived labeled as Jumbo Salted Peanut...  \n",
       "2  \"Delight\" says it all  This is a confection that has been around a fe...  \n",
       "3         Cough Medicine  If you are looking for the secret ingredient i...  \n",
       "4            Great taffy  Great taffy at a great price.  There was a wid...  "
      ]
     },
     "execution_count": 1330,
     "metadata": {},
     "output_type": "execute_result"
    }
   ],
   "source": [
    "df.head()"
   ]
  },
  {
   "cell_type": "code",
   "execution_count": 1331,
   "id": "330e6218",
   "metadata": {},
   "outputs": [
    {
     "data": {
      "text/plain": [
       "0         False\n",
       "1         False\n",
       "2         False\n",
       "3         False\n",
       "4         False\n",
       "          ...  \n",
       "568449    False\n",
       "568450    False\n",
       "568451    False\n",
       "568452    False\n",
       "568453    False\n",
       "Length: 568454, dtype: bool"
      ]
     },
     "execution_count": 1331,
     "metadata": {},
     "output_type": "execute_result"
    }
   ],
   "source": [
    "df['HelpfulnessNumerator']>df['HelpfulnessDenominator'] ##invalid row"
   ]
  },
  {
   "cell_type": "code",
   "execution_count": 1332,
   "id": "08665341",
   "metadata": {},
   "outputs": [
    {
     "data": {
      "text/html": [
       "<div>\n",
       "<style scoped>\n",
       "    .dataframe tbody tr th:only-of-type {\n",
       "        vertical-align: middle;\n",
       "    }\n",
       "\n",
       "    .dataframe tbody tr th {\n",
       "        vertical-align: top;\n",
       "    }\n",
       "\n",
       "    .dataframe thead th {\n",
       "        text-align: right;\n",
       "    }\n",
       "</style>\n",
       "<table border=\"1\" class=\"dataframe\">\n",
       "  <thead>\n",
       "    <tr style=\"text-align: right;\">\n",
       "      <th></th>\n",
       "      <th>Id</th>\n",
       "      <th>ProductId</th>\n",
       "      <th>UserId</th>\n",
       "      <th>ProfileName</th>\n",
       "      <th>HelpfulnessNumerator</th>\n",
       "      <th>HelpfulnessDenominator</th>\n",
       "      <th>Score</th>\n",
       "      <th>Time</th>\n",
       "      <th>Summary</th>\n",
       "      <th>Text</th>\n",
       "    </tr>\n",
       "  </thead>\n",
       "  <tbody>\n",
       "    <tr>\n",
       "      <th>44736</th>\n",
       "      <td>44737</td>\n",
       "      <td>B001EQ55RW</td>\n",
       "      <td>A2V0I904FH7ABY</td>\n",
       "      <td>Ram</td>\n",
       "      <td>3</td>\n",
       "      <td>2</td>\n",
       "      <td>4</td>\n",
       "      <td>1212883200</td>\n",
       "      <td>Pure cocoa taste with crunchy almonds inside</td>\n",
       "      <td>It was almost a 'love at first bite' - the per...</td>\n",
       "    </tr>\n",
       "    <tr>\n",
       "      <th>64421</th>\n",
       "      <td>64422</td>\n",
       "      <td>B000MIDROQ</td>\n",
       "      <td>A161DK06JJMCYF</td>\n",
       "      <td>J. E. Stephens \"Jeanne\"</td>\n",
       "      <td>3</td>\n",
       "      <td>1</td>\n",
       "      <td>5</td>\n",
       "      <td>1224892800</td>\n",
       "      <td>Bought This for My Son at College</td>\n",
       "      <td>My son loves spaghetti so I didn't hesitate or...</td>\n",
       "    </tr>\n",
       "  </tbody>\n",
       "</table>\n",
       "</div>"
      ],
      "text/plain": [
       "          Id   ProductId          UserId              ProfileName  \\\n",
       "44736  44737  B001EQ55RW  A2V0I904FH7ABY                      Ram   \n",
       "64421  64422  B000MIDROQ  A161DK06JJMCYF  J. E. Stephens \"Jeanne\"   \n",
       "\n",
       "       HelpfulnessNumerator  HelpfulnessDenominator  Score        Time  \\\n",
       "44736                     3                       2      4  1212883200   \n",
       "64421                     3                       1      5  1224892800   \n",
       "\n",
       "                                            Summary  \\\n",
       "44736  Pure cocoa taste with crunchy almonds inside   \n",
       "64421             Bought This for My Son at College   \n",
       "\n",
       "                                                    Text  \n",
       "44736  It was almost a 'love at first bite' - the per...  \n",
       "64421  My son loves spaghetti so I didn't hesitate or...  "
      ]
     },
     "execution_count": 1332,
     "metadata": {},
     "output_type": "execute_result"
    }
   ],
   "source": [
    "df[df['HelpfulnessNumerator']>df['HelpfulnessDenominator']]"
   ]
  },
  {
   "cell_type": "code",
   "execution_count": 1333,
   "id": "6b73f7a0",
   "metadata": {},
   "outputs": [],
   "source": [
    "df_valid=df[df['HelpfulnessNumerator']<=df['HelpfulnessDenominator']]"
   ]
  },
  {
   "cell_type": "code",
   "execution_count": 1334,
   "id": "8fb7ba8e",
   "metadata": {},
   "outputs": [
    {
     "data": {
      "text/plain": [
       "(568452, 10)"
      ]
     },
     "execution_count": 1334,
     "metadata": {},
     "output_type": "execute_result"
    }
   ],
   "source": [
    "df_valid.shape"
   ]
  },
  {
   "cell_type": "code",
   "execution_count": 1335,
   "id": "f2abbe1b",
   "metadata": {},
   "outputs": [
    {
     "data": {
      "text/plain": [
       "0         False\n",
       "1         False\n",
       "2         False\n",
       "3         False\n",
       "4         False\n",
       "          ...  \n",
       "568449    False\n",
       "568450    False\n",
       "568451    False\n",
       "568452    False\n",
       "568453    False\n",
       "Length: 568452, dtype: bool"
      ]
     },
     "execution_count": 1335,
     "metadata": {},
     "output_type": "execute_result"
    }
   ],
   "source": [
    "df_valid.duplicated(['UserId','ProfileName','Time','Text'])"
   ]
  },
  {
   "cell_type": "markdown",
   "id": "dccc2e4d",
   "metadata": {},
   "source": [
    "### Performing Sentiment Analysis on Data"
   ]
  },
  {
   "cell_type": "code",
   "execution_count": 1336,
   "id": "4582d457",
   "metadata": {},
   "outputs": [
    {
     "data": {
      "text/html": [
       "<div>\n",
       "<style scoped>\n",
       "    .dataframe tbody tr th:only-of-type {\n",
       "        vertical-align: middle;\n",
       "    }\n",
       "\n",
       "    .dataframe tbody tr th {\n",
       "        vertical-align: top;\n",
       "    }\n",
       "\n",
       "    .dataframe thead th {\n",
       "        text-align: right;\n",
       "    }\n",
       "</style>\n",
       "<table border=\"1\" class=\"dataframe\">\n",
       "  <thead>\n",
       "    <tr style=\"text-align: right;\">\n",
       "      <th></th>\n",
       "      <th>Id</th>\n",
       "      <th>ProductId</th>\n",
       "      <th>UserId</th>\n",
       "      <th>ProfileName</th>\n",
       "      <th>HelpfulnessNumerator</th>\n",
       "      <th>HelpfulnessDenominator</th>\n",
       "      <th>Score</th>\n",
       "      <th>Time</th>\n",
       "      <th>Summary</th>\n",
       "      <th>Text</th>\n",
       "    </tr>\n",
       "  </thead>\n",
       "  <tbody>\n",
       "    <tr>\n",
       "      <th>29</th>\n",
       "      <td>30</td>\n",
       "      <td>B0001PB9FY</td>\n",
       "      <td>A3HDKO7OW0QNK4</td>\n",
       "      <td>Canadian Fan</td>\n",
       "      <td>1</td>\n",
       "      <td>1</td>\n",
       "      <td>5</td>\n",
       "      <td>1107820800</td>\n",
       "      <td>The Best Hot Sauce in the World</td>\n",
       "      <td>I don't know if it's the cactus or the tequila...</td>\n",
       "    </tr>\n",
       "    <tr>\n",
       "      <th>574</th>\n",
       "      <td>575</td>\n",
       "      <td>B000G6RYNE</td>\n",
       "      <td>A3PJZ8TU8FDQ1K</td>\n",
       "      <td>Jared Castle</td>\n",
       "      <td>2</td>\n",
       "      <td>2</td>\n",
       "      <td>5</td>\n",
       "      <td>1231718400</td>\n",
       "      <td>One bite and you'll become a \"chippoisseur\"</td>\n",
       "      <td>I'm addicted to salty and tangy flavors, so wh...</td>\n",
       "    </tr>\n",
       "    <tr>\n",
       "      <th>1973</th>\n",
       "      <td>1974</td>\n",
       "      <td>B0017165OG</td>\n",
       "      <td>A2EPNS38TTLZYN</td>\n",
       "      <td>tedebear</td>\n",
       "      <td>0</td>\n",
       "      <td>0</td>\n",
       "      <td>3</td>\n",
       "      <td>1312675200</td>\n",
       "      <td>Pok Chops</td>\n",
       "      <td>The pork chops from Omaha Steaks were very tas...</td>\n",
       "    </tr>\n",
       "    <tr>\n",
       "      <th>2309</th>\n",
       "      <td>2310</td>\n",
       "      <td>B0001VWE0M</td>\n",
       "      <td>AQM74O8Z4FMS0</td>\n",
       "      <td>Sunshine</td>\n",
       "      <td>0</td>\n",
       "      <td>0</td>\n",
       "      <td>2</td>\n",
       "      <td>1127606400</td>\n",
       "      <td>Below standard</td>\n",
       "      <td>Too much of the white pith on this orange peel...</td>\n",
       "    </tr>\n",
       "    <tr>\n",
       "      <th>2323</th>\n",
       "      <td>2324</td>\n",
       "      <td>B0001VWE0C</td>\n",
       "      <td>AQM74O8Z4FMS0</td>\n",
       "      <td>Sunshine</td>\n",
       "      <td>0</td>\n",
       "      <td>0</td>\n",
       "      <td>2</td>\n",
       "      <td>1127606400</td>\n",
       "      <td>Below standard</td>\n",
       "      <td>Too much of the white pith on this orange peel...</td>\n",
       "    </tr>\n",
       "    <tr>\n",
       "      <th>...</th>\n",
       "      <td>...</td>\n",
       "      <td>...</td>\n",
       "      <td>...</td>\n",
       "      <td>...</td>\n",
       "      <td>...</td>\n",
       "      <td>...</td>\n",
       "      <td>...</td>\n",
       "      <td>...</td>\n",
       "      <td>...</td>\n",
       "      <td>...</td>\n",
       "    </tr>\n",
       "    <tr>\n",
       "      <th>568409</th>\n",
       "      <td>568410</td>\n",
       "      <td>B0018CLWM4</td>\n",
       "      <td>A2PE0AGWV6OPL7</td>\n",
       "      <td>Dark Water Mermaid</td>\n",
       "      <td>3</td>\n",
       "      <td>3</td>\n",
       "      <td>5</td>\n",
       "      <td>1309651200</td>\n",
       "      <td>Quality &amp; affordable food</td>\n",
       "      <td>I was very pleased with the ingredient quality...</td>\n",
       "    </tr>\n",
       "    <tr>\n",
       "      <th>568410</th>\n",
       "      <td>568411</td>\n",
       "      <td>B0018CLWM4</td>\n",
       "      <td>A88HLWDCU57WG</td>\n",
       "      <td>R28</td>\n",
       "      <td>2</td>\n",
       "      <td>2</td>\n",
       "      <td>5</td>\n",
       "      <td>1332979200</td>\n",
       "      <td>litter box</td>\n",
       "      <td>My main reason for the five star review has to...</td>\n",
       "    </tr>\n",
       "    <tr>\n",
       "      <th>568411</th>\n",
       "      <td>568412</td>\n",
       "      <td>B0018CLWM4</td>\n",
       "      <td>AUX1HSY8FX55S</td>\n",
       "      <td>DAW</td>\n",
       "      <td>1</td>\n",
       "      <td>1</td>\n",
       "      <td>5</td>\n",
       "      <td>1319500800</td>\n",
       "      <td>Happy Camper</td>\n",
       "      <td>I bought this to try on two registered Maine C...</td>\n",
       "    </tr>\n",
       "    <tr>\n",
       "      <th>568412</th>\n",
       "      <td>568413</td>\n",
       "      <td>B0018CLWM4</td>\n",
       "      <td>AVZ2OZ479Q9E8</td>\n",
       "      <td>Ai Ling Chow</td>\n",
       "      <td>0</td>\n",
       "      <td>0</td>\n",
       "      <td>5</td>\n",
       "      <td>1336435200</td>\n",
       "      <td>Two Siberians like it!</td>\n",
       "      <td>When we brought home two 3-month-old purebred ...</td>\n",
       "    </tr>\n",
       "    <tr>\n",
       "      <th>568413</th>\n",
       "      <td>568414</td>\n",
       "      <td>B0018CLWM4</td>\n",
       "      <td>AI3Y26HLPYW4L</td>\n",
       "      <td>kimosabe</td>\n",
       "      <td>1</td>\n",
       "      <td>2</td>\n",
       "      <td>2</td>\n",
       "      <td>1330041600</td>\n",
       "      <td>premium edge cat food</td>\n",
       "      <td>My cats don't like it. what else can I say to ...</td>\n",
       "    </tr>\n",
       "  </tbody>\n",
       "</table>\n",
       "<p>174521 rows × 10 columns</p>\n",
       "</div>"
      ],
      "text/plain": [
       "            Id   ProductId          UserId         ProfileName  \\\n",
       "29          30  B0001PB9FY  A3HDKO7OW0QNK4        Canadian Fan   \n",
       "574        575  B000G6RYNE  A3PJZ8TU8FDQ1K        Jared Castle   \n",
       "1973      1974  B0017165OG  A2EPNS38TTLZYN            tedebear   \n",
       "2309      2310  B0001VWE0M   AQM74O8Z4FMS0            Sunshine   \n",
       "2323      2324  B0001VWE0C   AQM74O8Z4FMS0            Sunshine   \n",
       "...        ...         ...             ...                 ...   \n",
       "568409  568410  B0018CLWM4  A2PE0AGWV6OPL7  Dark Water Mermaid   \n",
       "568410  568411  B0018CLWM4   A88HLWDCU57WG                 R28   \n",
       "568411  568412  B0018CLWM4   AUX1HSY8FX55S                 DAW   \n",
       "568412  568413  B0018CLWM4   AVZ2OZ479Q9E8        Ai Ling Chow   \n",
       "568413  568414  B0018CLWM4   AI3Y26HLPYW4L            kimosabe   \n",
       "\n",
       "        HelpfulnessNumerator  HelpfulnessDenominator  Score        Time  \\\n",
       "29                         1                       1      5  1107820800   \n",
       "574                        2                       2      5  1231718400   \n",
       "1973                       0                       0      3  1312675200   \n",
       "2309                       0                       0      2  1127606400   \n",
       "2323                       0                       0      2  1127606400   \n",
       "...                      ...                     ...    ...         ...   \n",
       "568409                     3                       3      5  1309651200   \n",
       "568410                     2                       2      5  1332979200   \n",
       "568411                     1                       1      5  1319500800   \n",
       "568412                     0                       0      5  1336435200   \n",
       "568413                     1                       2      2  1330041600   \n",
       "\n",
       "                                            Summary  \\\n",
       "29                  The Best Hot Sauce in the World   \n",
       "574     One bite and you'll become a \"chippoisseur\"   \n",
       "1973                                      Pok Chops   \n",
       "2309                                 Below standard   \n",
       "2323                                 Below standard   \n",
       "...                                             ...   \n",
       "568409                    Quality & affordable food   \n",
       "568410                                   litter box   \n",
       "568411                                 Happy Camper   \n",
       "568412                       Two Siberians like it!   \n",
       "568413                        premium edge cat food   \n",
       "\n",
       "                                                     Text  \n",
       "29      I don't know if it's the cactus or the tequila...  \n",
       "574     I'm addicted to salty and tangy flavors, so wh...  \n",
       "1973    The pork chops from Omaha Steaks were very tas...  \n",
       "2309    Too much of the white pith on this orange peel...  \n",
       "2323    Too much of the white pith on this orange peel...  \n",
       "...                                                   ...  \n",
       "568409  I was very pleased with the ingredient quality...  \n",
       "568410  My main reason for the five star review has to...  \n",
       "568411  I bought this to try on two registered Maine C...  \n",
       "568412  When we brought home two 3-month-old purebred ...  \n",
       "568413  My cats don't like it. what else can I say to ...  \n",
       "\n",
       "[174521 rows x 10 columns]"
      ]
     },
     "execution_count": 1336,
     "metadata": {},
     "output_type": "execute_result"
    }
   ],
   "source": [
    "df_valid[df_valid.duplicated(['UserId','ProfileName','Time','Text'])]"
   ]
  },
  {
   "cell_type": "code",
   "execution_count": 1337,
   "id": "5f029d67",
   "metadata": {},
   "outputs": [],
   "source": [
    "data=df_valid.drop_duplicates(subset=['UserId','ProfileName','Time','Text'])"
   ]
  },
  {
   "cell_type": "code",
   "execution_count": 1338,
   "id": "62217a4e",
   "metadata": {},
   "outputs": [
    {
     "data": {
      "text/plain": [
       "(393931, 10)"
      ]
     },
     "execution_count": 1338,
     "metadata": {},
     "output_type": "execute_result"
    }
   ],
   "source": [
    "data.shape"
   ]
  },
  {
   "cell_type": "code",
   "execution_count": 1339,
   "id": "1bb78bd0",
   "metadata": {},
   "outputs": [
    {
     "data": {
      "text/plain": [
       "Id                         int64\n",
       "ProductId                 object\n",
       "UserId                    object\n",
       "ProfileName               object\n",
       "HelpfulnessNumerator       int64\n",
       "HelpfulnessDenominator     int64\n",
       "Score                      int64\n",
       "Time                       int64\n",
       "Summary                   object\n",
       "Text                      object\n",
       "dtype: object"
      ]
     },
     "execution_count": 1339,
     "metadata": {},
     "output_type": "execute_result"
    }
   ],
   "source": [
    "data.dtypes"
   ]
  },
  {
   "cell_type": "code",
   "execution_count": 1340,
   "id": "ceea681f",
   "metadata": {},
   "outputs": [],
   "source": [
    "data['Time']=pd.to_datetime(data['Time'],unit='s')"
   ]
  },
  {
   "cell_type": "code",
   "execution_count": 1341,
   "id": "6b97e2f9",
   "metadata": {},
   "outputs": [],
   "source": [
    "import warnings\n",
    "from warnings import filterwarnings\n",
    "filterwarnings('ignore')"
   ]
  },
  {
   "cell_type": "markdown",
   "id": "659fd389",
   "metadata": {},
   "source": [
    " ### What is sentiment analysis?\n",
    "    Sentiment analysis is the computational task of automatically determining what feelings a writer is expressing in text\n",
    "    Some examples of applications for sentiment analysis include:\n",
    "\n",
    "    1.Analyzing the social media discussion around a certain topic\n",
    "    2.Evaluating survey responses\n",
    "    3.Determining whether product reviews are positive or negative\n",
    "\n",
    "    Sentiment analysis is not perfect.It also cannot tell you why a writer is feeling a certain way. However, it can be useful to quickly summarize some qualities of text, especially if you have so much text that a human reader cannot analyze it.For this project,the goal is to to classify Food reviews based on customers' text."
   ]
  },
  {
   "cell_type": "code",
   "execution_count": 1342,
   "id": "51f8c2e2",
   "metadata": {},
   "outputs": [
    {
     "name": "stdout",
     "output_type": "stream",
     "text": [
      "Requirement already satisfied: TextBlob in c:\\users\\dines\\anaconda3\\lib\\site-packages (0.17.1)\n",
      "Requirement already satisfied: nltk>=3.1 in c:\\users\\dines\\anaconda3\\lib\\site-packages (from TextBlob) (3.7)\n",
      "Requirement already satisfied: joblib in c:\\users\\dines\\anaconda3\\lib\\site-packages (from nltk>=3.1->TextBlob) (1.1.0)\n",
      "Requirement already satisfied: tqdm in c:\\users\\dines\\anaconda3\\lib\\site-packages (from nltk>=3.1->TextBlob) (4.64.1)\n",
      "Requirement already satisfied: click in c:\\users\\dines\\anaconda3\\lib\\site-packages (from nltk>=3.1->TextBlob) (8.0.4)\n",
      "Requirement already satisfied: regex>=2021.8.3 in c:\\users\\dines\\anaconda3\\lib\\site-packages (from nltk>=3.1->TextBlob) (2022.7.9)\n",
      "Requirement already satisfied: colorama in c:\\users\\dines\\anaconda3\\lib\\site-packages (from click->nltk>=3.1->TextBlob) (0.4.5)\n"
     ]
    }
   ],
   "source": [
    "!pip install TextBlob\n"
   ]
  },
  {
   "cell_type": "code",
   "execution_count": 1343,
   "id": "bca75c74",
   "metadata": {},
   "outputs": [],
   "source": [
    "from textblob import TextBlob\n"
   ]
  },
  {
   "cell_type": "code",
   "execution_count": 1344,
   "id": "a1b241d0",
   "metadata": {},
   "outputs": [],
   "source": [
    "text=df['Summary'][0]"
   ]
  },
  {
   "cell_type": "code",
   "execution_count": 1345,
   "id": "0c3a18bb",
   "metadata": {},
   "outputs": [
    {
     "data": {
      "text/plain": [
       "'Good Quality Dog Food'"
      ]
     },
     "execution_count": 1345,
     "metadata": {},
     "output_type": "execute_result"
    }
   ],
   "source": [
    "text"
   ]
  },
  {
   "cell_type": "code",
   "execution_count": 1346,
   "id": "6bce0f0f",
   "metadata": {},
   "outputs": [
    {
     "data": {
      "text/plain": [
       "0.7"
      ]
     },
     "execution_count": 1346,
     "metadata": {},
     "output_type": "execute_result"
    }
   ],
   "source": [
    "TextBlob(text).sentiment.polarity"
   ]
  },
  {
   "cell_type": "code",
   "execution_count": 1347,
   "id": "63541dae",
   "metadata": {},
   "outputs": [],
   "source": [
    "polarity=[]\n",
    "\n",
    "for i in df['Summary']:\n",
    "    try:\n",
    "        polarity.append( TextBlob(i).sentiment.polarity)\n",
    "    except:\n",
    "        polarity.append(0)"
   ]
  },
  {
   "cell_type": "code",
   "execution_count": 1348,
   "id": "3e53ca07",
   "metadata": {},
   "outputs": [
    {
     "data": {
      "text/plain": [
       "568454"
      ]
     },
     "execution_count": 1348,
     "metadata": {},
     "output_type": "execute_result"
    }
   ],
   "source": [
    "len(polarity)"
   ]
  },
  {
   "cell_type": "code",
   "execution_count": 1349,
   "id": "1fd3e20d",
   "metadata": {},
   "outputs": [],
   "source": [
    "data= df.copy()"
   ]
  },
  {
   "cell_type": "code",
   "execution_count": 1350,
   "id": "e48aa73a",
   "metadata": {},
   "outputs": [],
   "source": [
    "data['polarity']=polarity"
   ]
  },
  {
   "cell_type": "code",
   "execution_count": 1351,
   "id": "b08e6e55",
   "metadata": {},
   "outputs": [
    {
     "data": {
      "text/html": [
       "<div>\n",
       "<style scoped>\n",
       "    .dataframe tbody tr th:only-of-type {\n",
       "        vertical-align: middle;\n",
       "    }\n",
       "\n",
       "    .dataframe tbody tr th {\n",
       "        vertical-align: top;\n",
       "    }\n",
       "\n",
       "    .dataframe thead th {\n",
       "        text-align: right;\n",
       "    }\n",
       "</style>\n",
       "<table border=\"1\" class=\"dataframe\">\n",
       "  <thead>\n",
       "    <tr style=\"text-align: right;\">\n",
       "      <th></th>\n",
       "      <th>Id</th>\n",
       "      <th>ProductId</th>\n",
       "      <th>UserId</th>\n",
       "      <th>ProfileName</th>\n",
       "      <th>HelpfulnessNumerator</th>\n",
       "      <th>HelpfulnessDenominator</th>\n",
       "      <th>Score</th>\n",
       "      <th>Time</th>\n",
       "      <th>Summary</th>\n",
       "      <th>Text</th>\n",
       "      <th>polarity</th>\n",
       "    </tr>\n",
       "  </thead>\n",
       "  <tbody>\n",
       "    <tr>\n",
       "      <th>0</th>\n",
       "      <td>1</td>\n",
       "      <td>B001E4KFG0</td>\n",
       "      <td>A3SGXH7AUHU8GW</td>\n",
       "      <td>delmartian</td>\n",
       "      <td>1</td>\n",
       "      <td>1</td>\n",
       "      <td>5</td>\n",
       "      <td>1303862400</td>\n",
       "      <td>Good Quality Dog Food</td>\n",
       "      <td>I have bought several of the Vitality canned d...</td>\n",
       "      <td>0.7</td>\n",
       "    </tr>\n",
       "    <tr>\n",
       "      <th>1</th>\n",
       "      <td>2</td>\n",
       "      <td>B00813GRG4</td>\n",
       "      <td>A1D87F6ZCVE5NK</td>\n",
       "      <td>dll pa</td>\n",
       "      <td>0</td>\n",
       "      <td>0</td>\n",
       "      <td>1</td>\n",
       "      <td>1346976000</td>\n",
       "      <td>Not as Advertised</td>\n",
       "      <td>Product arrived labeled as Jumbo Salted Peanut...</td>\n",
       "      <td>0.0</td>\n",
       "    </tr>\n",
       "    <tr>\n",
       "      <th>2</th>\n",
       "      <td>3</td>\n",
       "      <td>B000LQOCH0</td>\n",
       "      <td>ABXLMWJIXXAIN</td>\n",
       "      <td>Natalia Corres \"Natalia Corres\"</td>\n",
       "      <td>1</td>\n",
       "      <td>1</td>\n",
       "      <td>4</td>\n",
       "      <td>1219017600</td>\n",
       "      <td>\"Delight\" says it all</td>\n",
       "      <td>This is a confection that has been around a fe...</td>\n",
       "      <td>0.0</td>\n",
       "    </tr>\n",
       "    <tr>\n",
       "      <th>3</th>\n",
       "      <td>4</td>\n",
       "      <td>B000UA0QIQ</td>\n",
       "      <td>A395BORC6FGVXV</td>\n",
       "      <td>Karl</td>\n",
       "      <td>3</td>\n",
       "      <td>3</td>\n",
       "      <td>2</td>\n",
       "      <td>1307923200</td>\n",
       "      <td>Cough Medicine</td>\n",
       "      <td>If you are looking for the secret ingredient i...</td>\n",
       "      <td>0.0</td>\n",
       "    </tr>\n",
       "    <tr>\n",
       "      <th>4</th>\n",
       "      <td>5</td>\n",
       "      <td>B006K2ZZ7K</td>\n",
       "      <td>A1UQRSCLF8GW1T</td>\n",
       "      <td>Michael D. Bigham \"M. Wassir\"</td>\n",
       "      <td>0</td>\n",
       "      <td>0</td>\n",
       "      <td>5</td>\n",
       "      <td>1350777600</td>\n",
       "      <td>Great taffy</td>\n",
       "      <td>Great taffy at a great price.  There was a wid...</td>\n",
       "      <td>0.8</td>\n",
       "    </tr>\n",
       "  </tbody>\n",
       "</table>\n",
       "</div>"
      ],
      "text/plain": [
       "   Id   ProductId          UserId                      ProfileName  \\\n",
       "0   1  B001E4KFG0  A3SGXH7AUHU8GW                       delmartian   \n",
       "1   2  B00813GRG4  A1D87F6ZCVE5NK                           dll pa   \n",
       "2   3  B000LQOCH0   ABXLMWJIXXAIN  Natalia Corres \"Natalia Corres\"   \n",
       "3   4  B000UA0QIQ  A395BORC6FGVXV                             Karl   \n",
       "4   5  B006K2ZZ7K  A1UQRSCLF8GW1T    Michael D. Bigham \"M. Wassir\"   \n",
       "\n",
       "   HelpfulnessNumerator  HelpfulnessDenominator  Score        Time  \\\n",
       "0                     1                       1      5  1303862400   \n",
       "1                     0                       0      1  1346976000   \n",
       "2                     1                       1      4  1219017600   \n",
       "3                     3                       3      2  1307923200   \n",
       "4                     0                       0      5  1350777600   \n",
       "\n",
       "                 Summary                                               Text  \\\n",
       "0  Good Quality Dog Food  I have bought several of the Vitality canned d...   \n",
       "1      Not as Advertised  Product arrived labeled as Jumbo Salted Peanut...   \n",
       "2  \"Delight\" says it all  This is a confection that has been around a fe...   \n",
       "3         Cough Medicine  If you are looking for the secret ingredient i...   \n",
       "4            Great taffy  Great taffy at a great price.  There was a wid...   \n",
       "\n",
       "   polarity  \n",
       "0       0.7  \n",
       "1       0.0  \n",
       "2       0.0  \n",
       "3       0.0  \n",
       "4       0.8  "
      ]
     },
     "execution_count": 1351,
     "metadata": {},
     "output_type": "execute_result"
    }
   ],
   "source": [
    "data.head()"
   ]
  },
  {
   "cell_type": "markdown",
   "id": "3630266a",
   "metadata": {},
   "source": [
    "### Perform EDA for positive sentences"
   ]
  },
  {
   "cell_type": "code",
   "execution_count": 1352,
   "id": "1b2fb157",
   "metadata": {},
   "outputs": [],
   "source": [
    "data_positive=data[data['polarity']>0]"
   ]
  },
  {
   "cell_type": "code",
   "execution_count": 1353,
   "id": "c97c0a0f",
   "metadata": {},
   "outputs": [
    {
     "data": {
      "text/plain": [
       "(331665, 11)"
      ]
     },
     "execution_count": 1353,
     "metadata": {},
     "output_type": "execute_result"
    }
   ],
   "source": [
    "data_positive.shape"
   ]
  },
  {
   "cell_type": "code",
   "execution_count": 1354,
   "id": "ea645ef1",
   "metadata": {},
   "outputs": [
    {
     "name": "stdout",
     "output_type": "stream",
     "text": [
      "Requirement already satisfied: wordcloud in c:\\users\\dines\\anaconda3\\lib\\site-packages (1.9.2)\n",
      "Requirement already satisfied: matplotlib in c:\\users\\dines\\anaconda3\\lib\\site-packages (from wordcloud) (3.5.2)\n",
      "Requirement already satisfied: numpy>=1.6.1 in c:\\users\\dines\\anaconda3\\lib\\site-packages (from wordcloud) (1.21.5)\n",
      "Requirement already satisfied: pillow in c:\\users\\dines\\anaconda3\\lib\\site-packages (from wordcloud) (9.2.0)\n",
      "Requirement already satisfied: fonttools>=4.22.0 in c:\\users\\dines\\anaconda3\\lib\\site-packages (from matplotlib->wordcloud) (4.25.0)\n",
      "Requirement already satisfied: cycler>=0.10 in c:\\users\\dines\\anaconda3\\lib\\site-packages (from matplotlib->wordcloud) (0.11.0)\n",
      "Requirement already satisfied: python-dateutil>=2.7 in c:\\users\\dines\\anaconda3\\lib\\site-packages (from matplotlib->wordcloud) (2.8.2)\n",
      "Requirement already satisfied: kiwisolver>=1.0.1 in c:\\users\\dines\\anaconda3\\lib\\site-packages (from matplotlib->wordcloud) (1.4.2)\n",
      "Requirement already satisfied: pyparsing>=2.2.1 in c:\\users\\dines\\anaconda3\\lib\\site-packages (from matplotlib->wordcloud) (3.0.9)\n",
      "Requirement already satisfied: packaging>=20.0 in c:\\users\\dines\\anaconda3\\lib\\site-packages (from matplotlib->wordcloud) (21.3)\n",
      "Requirement already satisfied: six>=1.5 in c:\\users\\dines\\anaconda3\\lib\\site-packages (from python-dateutil>=2.7->matplotlib->wordcloud) (1.16.0)\n"
     ]
    }
   ],
   "source": [
    "!pip install wordcloud"
   ]
  },
  {
   "cell_type": "code",
   "execution_count": 1456,
   "id": "7d86da49",
   "metadata": {},
   "outputs": [],
   "source": [
    "from wordcloud import WordCloud,STOPWORDS"
   ]
  },
  {
   "cell_type": "code",
   "execution_count": 1457,
   "id": "af019316",
   "metadata": {},
   "outputs": [],
   "source": [
    "stopwords=set(STOPWORDS)"
   ]
  },
  {
   "cell_type": "code",
   "execution_count": 1547,
   "id": "d9358a39",
   "metadata": {},
   "outputs": [],
   "source": [
    "total_text=(''.join(data_positive['Summary']))"
   ]
  },
  {
   "cell_type": "code",
   "execution_count": 1548,
   "id": "8a069815",
   "metadata": {},
   "outputs": [],
   "source": [
    "#total_text"
   ]
  },
  {
   "cell_type": "code",
   "execution_count": 1549,
   "id": "00655478",
   "metadata": {},
   "outputs": [],
   "source": [
    "import re"
   ]
  },
  {
   "cell_type": "code",
   "execution_count": 1550,
   "id": "1f5826ee",
   "metadata": {},
   "outputs": [],
   "source": [
    "total_text=re.sub('[^a-zA-Z]',' ',total_text)"
   ]
  },
  {
   "cell_type": "code",
   "execution_count": 1551,
   "id": "e22a6f93",
   "metadata": {},
   "outputs": [],
   "source": [
    "total_text=re.sub(' +',' ',total_text)"
   ]
  },
  {
   "cell_type": "code",
   "execution_count": 1552,
   "id": "3ceaa520",
   "metadata": {},
   "outputs": [],
   "source": [
    "total_text[0:10000]"
   ]
  },
  {
   "cell_type": "code",
   "execution_count": 1553,
   "id": "03714d12",
   "metadata": {},
   "outputs": [],
   "source": [
    "wordcloud= WordCloud(width=1000,height=500,stopwords=stopwords).generate(total_text)\n",
    "plt.figure(figsize=(15,5))\n",
    "plt.imshow(wordcloud)"
   ]
  },
  {
   "cell_type": "markdown",
   "id": "9aa0ed3b",
   "metadata": {},
   "source": [
    "### Perform EDA for negative sentences"
   ]
  },
  {
   "cell_type": "code",
   "execution_count": 1554,
   "id": "4123e203",
   "metadata": {},
   "outputs": [],
   "source": [
    "#data_negative=data[data['polarity']<0]"
   ]
  },
  {
   "cell_type": "code",
   "execution_count": 1555,
   "id": "52ea7022",
   "metadata": {},
   "outputs": [],
   "source": [
    "#data_negative.shape"
   ]
  },
  {
   "cell_type": "code",
   "execution_count": 1556,
   "id": "97832227",
   "metadata": {},
   "outputs": [],
   "source": [
    "#total_text2=(''.join(data_negative['Summary']))"
   ]
  },
  {
   "cell_type": "code",
   "execution_count": 1557,
   "id": "fcf0861e",
   "metadata": {},
   "outputs": [],
   "source": [
    "#total_text2=re.sub('[^a-zA-Z]',' ',total_text2)"
   ]
  },
  {
   "cell_type": "code",
   "execution_count": 1558,
   "id": "985f4b8e",
   "metadata": {},
   "outputs": [],
   "source": [
    "#total_text2=re.sub(' +',' ',total_text2)"
   ]
  },
  {
   "cell_type": "code",
   "execution_count": 1559,
   "id": "5d60b784",
   "metadata": {},
   "outputs": [],
   "source": [
    "#wordcloud2= WordCloud(width=1000,height=500,stopwords=stopwords).generate(total_text2)\n",
    "#plt.figure(figsize=(15,5))\n",
    "#plt.imshow(wordcloud2)\n",
    "#plt.axis('off')\n"
   ]
  },
  {
   "cell_type": "markdown",
   "id": "fc692dc5",
   "metadata": {},
   "source": [
    "## Analysing what customers amazon should recommend more products."
   ]
  },
  {
   "cell_type": "markdown",
   "id": "f45a811b",
   "metadata": {},
   "source": [
    "#### Amazon can recommend more products to only those who are going to buy more or to one who has a better conversion rate,so lets ready data according to this problem statement\n",
    "\n"
   ]
  },
  {
   "cell_type": "code",
   "execution_count": 1560,
   "id": "56852cfb",
   "metadata": {},
   "outputs": [],
   "source": [
    "#df['UserId'].nunique()"
   ]
  },
  {
   "cell_type": "code",
   "execution_count": 1561,
   "id": "97f5140b",
   "metadata": {},
   "outputs": [],
   "source": [
    "#df.head()"
   ]
  },
  {
   "cell_type": "code",
   "execution_count": 1562,
   "id": "1a4bd9b1",
   "metadata": {},
   "outputs": [],
   "source": [
    "#raw=df.groupby('UserId').agg({'Summary':'count','Text':'count','Score':'mean','ProductId':'count'}).sort_values(by='Text',ascending=False)"
   ]
  },
  {
   "cell_type": "code",
   "execution_count": 1563,
   "id": "04a9bbdd",
   "metadata": {},
   "outputs": [],
   "source": [
    "#raw"
   ]
  },
  {
   "cell_type": "code",
   "execution_count": 1564,
   "id": "352a5c8b",
   "metadata": {},
   "outputs": [],
   "source": [
    "#raw.columns=['no_of_summary','num_text','avg_score','no_of_prod_purchased']\n",
    "#raw"
   ]
  },
  {
   "cell_type": "code",
   "execution_count": 1565,
   "id": "0337d7a1",
   "metadata": {},
   "outputs": [],
   "source": [
    "#user_10=raw.index[0:10]"
   ]
  },
  {
   "cell_type": "code",
   "execution_count": 1566,
   "id": "3d1cba7c",
   "metadata": {},
   "outputs": [],
   "source": [
    "#num_10=raw['no_of_prod_purchased'][0:10]"
   ]
  },
  {
   "cell_type": "code",
   "execution_count": 1567,
   "id": "a3559397",
   "metadata": {},
   "outputs": [],
   "source": [
    "#plt.bar(user_10,num_10,label='most recommended user')\n",
    "#plt.xlabel('UserId')\n",
    "#plt.ylabel('no_of_prod_purchased')\n",
    "#plt.xticks(rotation='vertical')"
   ]
  },
  {
   "cell_type": "markdown",
   "id": "45f4ff68",
   "metadata": {},
   "source": [
    "#### These are the Top 10 Users so we can recommend more & more Prodcuts to these Usser Id as there will be a high probability that these person are going to be buy more\n",
    "\n",
    "\n"
   ]
  },
  {
   "cell_type": "markdown",
   "id": "85cf941e",
   "metadata": {},
   "source": [
    "### Which Product has a good number of reviews"
   ]
  },
  {
   "cell_type": "code",
   "execution_count": 1568,
   "id": "f838cacb",
   "metadata": {},
   "outputs": [],
   "source": [
    "#data['ProductId'].nunique()"
   ]
  },
  {
   "cell_type": "code",
   "execution_count": 1569,
   "id": "0baeca5d",
   "metadata": {},
   "outputs": [],
   "source": [
    "#prod_count=data['ProductId'].value_counts().to_frame()"
   ]
  },
  {
   "cell_type": "code",
   "execution_count": 1570,
   "id": "e62ddad7",
   "metadata": {},
   "outputs": [],
   "source": [
    "#prod_count"
   ]
  },
  {
   "cell_type": "code",
   "execution_count": 1571,
   "id": "361ff243",
   "metadata": {},
   "outputs": [],
   "source": [
    "#prod_count[prod_count['ProductId']>500]"
   ]
  },
  {
   "cell_type": "code",
   "execution_count": 1572,
   "id": "d2dbafb6",
   "metadata": {},
   "outputs": [],
   "source": [
    "#freq_prod_ids=prod_count[prod_count['ProductId']>500].index"
   ]
  },
  {
   "cell_type": "code",
   "execution_count": 1573,
   "id": "dbf7586b",
   "metadata": {},
   "outputs": [],
   "source": [
    "#data['ProductId'].isin(freq_prod_ids)"
   ]
  },
  {
   "cell_type": "code",
   "execution_count": 1574,
   "id": "c71208ee",
   "metadata": {},
   "outputs": [],
   "source": [
    "#freq_prod_df=data[data['ProductId'].isin(freq_prod_ids)]"
   ]
  },
  {
   "cell_type": "code",
   "execution_count": 1575,
   "id": "ded6ba4d",
   "metadata": {},
   "outputs": [],
   "source": [
    "#freq_prod_df"
   ]
  },
  {
   "cell_type": "code",
   "execution_count": 1576,
   "id": "26cc1779",
   "metadata": {},
   "outputs": [],
   "source": [
    "#freq_prod_df.columns"
   ]
  },
  {
   "cell_type": "code",
   "execution_count": 1577,
   "id": "8723e24a",
   "metadata": {},
   "outputs": [],
   "source": [
    "#sns.countplot(y='ProductId', data=freq_prod_df, hue='Score')"
   ]
  },
  {
   "cell_type": "markdown",
   "id": "4e532b7d",
   "metadata": {},
   "source": [
    "### IS there any difference between behaviour of frequent user and not frequent user?"
   ]
  },
  {
   "cell_type": "code",
   "execution_count": 1578,
   "id": "1682258f",
   "metadata": {},
   "outputs": [],
   "source": [
    "#x=data['UserId'].value_counts()"
   ]
  },
  {
   "cell_type": "code",
   "execution_count": 1579,
   "id": "d74bb1d8",
   "metadata": {},
   "outputs": [],
   "source": [
    "#x"
   ]
  },
  {
   "cell_type": "code",
   "execution_count": 1580,
   "id": "b0f081ff",
   "metadata": {},
   "outputs": [],
   "source": [
    "#data['viewer_type']=data['UserId'].apply(lambda user: 'Frequent' if x[user]>50 else 'Not Frequent')"
   ]
  },
  {
   "cell_type": "code",
   "execution_count": 1581,
   "id": "31faff00",
   "metadata": {
    "scrolled": true
   },
   "outputs": [],
   "source": [
    "#data.head(5)"
   ]
  },
  {
   "cell_type": "code",
   "execution_count": 1582,
   "id": "6925027c",
   "metadata": {},
   "outputs": [],
   "source": [
    "#not_freq_viewer=data[data['viewer_type']=='Not Frequent']\n",
    "#freq_viewer=data[data['viewer_type']=='Frequent']"
   ]
  },
  {
   "cell_type": "code",
   "execution_count": 1583,
   "id": "21e1a3c5",
   "metadata": {},
   "outputs": [],
   "source": [
    "#freq_viewer['Score'].value_counts()/len(freq_viewer)*100"
   ]
  },
  {
   "cell_type": "code",
   "execution_count": 1584,
   "id": "d09528e9",
   "metadata": {},
   "outputs": [],
   "source": [
    "#not_freq_viewer['Score'].value_counts()/len(not_freq_viewer)*100"
   ]
  },
  {
   "cell_type": "code",
   "execution_count": 1585,
   "id": "a7ad2cdd",
   "metadata": {},
   "outputs": [],
   "source": [
    "#freq_viewer['Score'].value_counts().plot(kind='bar')"
   ]
  },
  {
   "cell_type": "code",
   "execution_count": 1586,
   "id": "0080d1d9",
   "metadata": {},
   "outputs": [],
   "source": [
    "#not_freq_viewer['Score'].value_counts().plot(kind='bar')"
   ]
  },
  {
   "cell_type": "markdown",
   "id": "a971dce9",
   "metadata": {},
   "source": [
    "### The distribution of ratings among frequent reviewers is similar to that of all reviews. \n",
    "### However, we can see that frequent reviewers give less 5-star reviews and less 1-star review.\n",
    "### Frequent users appear to be more discerning in the sense that they give less extreme reviews than infrequent reviews."
   ]
  },
  {
   "cell_type": "markdown",
   "id": "2d2c6351",
   "metadata": {},
   "source": [
    "## Are frequent users more verbose?"
   ]
  },
  {
   "cell_type": "code",
   "execution_count": 1587,
   "id": "e2d45a75",
   "metadata": {},
   "outputs": [],
   "source": [
    "#data['Text'][0]"
   ]
  },
  {
   "cell_type": "code",
   "execution_count": 1588,
   "id": "a34a865e",
   "metadata": {},
   "outputs": [],
   "source": [
    "#type(data['Text'][0])"
   ]
  },
  {
   "cell_type": "code",
   "execution_count": 1589,
   "id": "8819740c",
   "metadata": {},
   "outputs": [],
   "source": [
    "#type(data['Text'][0].split(' '))"
   ]
  },
  {
   "cell_type": "code",
   "execution_count": 1590,
   "id": "51aee9f2",
   "metadata": {},
   "outputs": [],
   "source": [
    "#len(data['Text'][0].split(' '))"
   ]
  },
  {
   "cell_type": "code",
   "execution_count": 1591,
   "id": "d24f1639",
   "metadata": {},
   "outputs": [],
   "source": [
    "#def calculate_len(text):\n",
    "#    return len(text.split(' '))"
   ]
  },
  {
   "cell_type": "code",
   "execution_count": 1592,
   "id": "1228c1a9",
   "metadata": {},
   "outputs": [],
   "source": [
    "#data['Text_lenght']=data['Text'].apply(calculate_len)"
   ]
  },
  {
   "cell_type": "code",
   "execution_count": 1593,
   "id": "e84de352",
   "metadata": {},
   "outputs": [],
   "source": [
    "#not_freq_data=data[data['viewer_type']=='Not Frequent']\n",
    "#freq_data=data[data['viewer_type']=='Frequent']"
   ]
  },
  {
   "cell_type": "code",
   "execution_count": 1594,
   "id": "f8fe3aa7",
   "metadata": {},
   "outputs": [],
   "source": [
    "#not_freq_data"
   ]
  },
  {
   "cell_type": "code",
   "execution_count": 1595,
   "id": "737ea03f",
   "metadata": {},
   "outputs": [],
   "source": [
    "#fig=plt.figure()\n",
    "#ax1=fig.add_subplot(121)\n",
    "#ax1.boxplot(freq_data['Text_lenght'])\n",
    "#ax1.set_xlabel('frequency of frequent reviewers')\n",
    "\n",
    "#ax2=fig.add_subplot(122)\n",
    "#ax2.boxplot(not_freq_data['Text_lenght'])\n",
    "#ax2.set_xlabel('frequency of not frequent reviewers')\n"
   ]
  },
  {
   "cell_type": "markdown",
   "id": "f6c5ae10",
   "metadata": {},
   "source": [
    "#### The distributions of word counts for frequent and infrequent reviews shows that \n",
    "#### infrequent reviewers have a large amount of reviews of low word count.\n",
    "#### On the other hand, the largest concentration of word count is higher for frequent reviewers than for infrequent reviews. \n"
   ]
  },
  {
   "cell_type": "markdown",
   "id": "d580fb11",
   "metadata": {},
   "source": [
    "### Analyse Length of Comments whether Customers are going to give Lengthy comments or short one\n"
   ]
  },
  {
   "cell_type": "code",
   "execution_count": 1596,
   "id": "171a85df",
   "metadata": {},
   "outputs": [],
   "source": [
    "#final=df[0:2000]"
   ]
  },
  {
   "cell_type": "code",
   "execution_count": 1597,
   "id": "0760b5c7",
   "metadata": {},
   "outputs": [],
   "source": [
    "#final.head()"
   ]
  },
  {
   "cell_type": "code",
   "execution_count": 1598,
   "id": "c9bd12ae",
   "metadata": {},
   "outputs": [],
   "source": [
    "#final.isnull().sum()"
   ]
  },
  {
   "cell_type": "code",
   "execution_count": 1599,
   "id": "ecf9d2fe",
   "metadata": {},
   "outputs": [],
   "source": [
    "#final.duplicated().sum()"
   ]
  },
  {
   "cell_type": "code",
   "execution_count": 1600,
   "id": "6bc2b40f",
   "metadata": {},
   "outputs": [],
   "source": [
    "#len(final['Text'][0].split(' '))"
   ]
  },
  {
   "cell_type": "code",
   "execution_count": 1601,
   "id": "752856ea",
   "metadata": {},
   "outputs": [],
   "source": [
    "#def calc_length(text):\n",
    "#    return len(text.split(' '))"
   ]
  },
  {
   "cell_type": "code",
   "execution_count": 1602,
   "id": "107f77cb",
   "metadata": {},
   "outputs": [],
   "source": [
    "#final['Text_length']=final['Text'].apply(calc_length)"
   ]
  },
  {
   "cell_type": "code",
   "execution_count": 1603,
   "id": "a9f254d0",
   "metadata": {},
   "outputs": [],
   "source": [
    "#import plotly.express as px"
   ]
  },
  {
   "cell_type": "code",
   "execution_count": 1604,
   "id": "f5e3a370",
   "metadata": {},
   "outputs": [],
   "source": [
    "#px.box(final,y='Text_length')"
   ]
  },
  {
   "cell_type": "markdown",
   "id": "6d5be4f0",
   "metadata": {},
   "source": [
    "#### Conclusion-->>\n",
    "    Seems to have Almost 50 percent users are going to give their Feedback limited to 50 words whereas there are only few users who are going give Lengthy Feedbacks"
   ]
  },
  {
   "cell_type": "markdown",
   "id": "9bf50670",
   "metadata": {},
   "source": [
    "### Analysing score"
   ]
  },
  {
   "cell_type": "code",
   "execution_count": 1605,
   "id": "35f89b96",
   "metadata": {},
   "outputs": [],
   "source": [
    "#sns.countplot(final['Score'])"
   ]
  },
  {
   "cell_type": "markdown",
   "id": "e3d8471a",
   "metadata": {},
   "source": [
    "### Analysing behavior of customers"
   ]
  },
  {
   "cell_type": "markdown",
   "id": "1079c5a1",
   "metadata": {},
   "source": [
    "### Text preprocessing"
   ]
  },
  {
   "cell_type": "code",
   "execution_count": 1606,
   "id": "57a2b699",
   "metadata": {},
   "outputs": [],
   "source": [
    "#final['Text'][0]"
   ]
  },
  {
   "cell_type": "code",
   "execution_count": 1607,
   "id": "da4efe0b",
   "metadata": {},
   "outputs": [],
   "source": [
    "#final['Text']=final['Text'].str.lower()"
   ]
  },
  {
   "cell_type": "code",
   "execution_count": 1608,
   "id": "002e2481",
   "metadata": {},
   "outputs": [],
   "source": [
    "#data=final['Text'][164]"
   ]
  },
  {
   "cell_type": "code",
   "execution_count": 1609,
   "id": "29f4bc09",
   "metadata": {},
   "outputs": [],
   "source": [
    "#punctuation= '''@!#$%^*()<:;{}?/[]'''\n",
    "#data= final['Text'][164]\n",
    "#no_punc =''\n",
    "#for char in data:\n",
    "#    if char not in punctuation:\n",
    "#        no_punc=no_punc+char\n",
    "#no_punc\n",
    "#    "
   ]
  },
  {
   "cell_type": "code",
   "execution_count": 1610,
   "id": "521a6784",
   "metadata": {},
   "outputs": [],
   "source": [
    "#import string\n",
    "#punctuations=string.punctuation\n",
    "\n",
    "#def remove_punc(review):\n",
    " #   no_punc =''\n",
    "  #  for char in review:\n",
    "   #     if char not in punctuations:\n",
    "    #        no_punc=no_punc+char\n",
    "    #return no_punc"
   ]
  },
  {
   "cell_type": "code",
   "execution_count": 1611,
   "id": "b8479dd9",
   "metadata": {},
   "outputs": [],
   "source": [
    "#final['Text']=final['Text'].apply(remove_punc)"
   ]
  },
  {
   "cell_type": "code",
   "execution_count": 1612,
   "id": "10218a4d",
   "metadata": {},
   "outputs": [],
   "source": [
    "#final.head()\n"
   ]
  },
  {
   "cell_type": "code",
   "execution_count": 1613,
   "id": "4aebec12",
   "metadata": {},
   "outputs": [],
   "source": [
    "#import nltk\n",
    "#from nltk.corpus import stopwords"
   ]
  },
  {
   "cell_type": "code",
   "execution_count": 1614,
   "id": "fa766726",
   "metadata": {},
   "outputs": [],
   "source": [
    "#data=final['Text'][164]"
   ]
  },
  {
   "cell_type": "code",
   "execution_count": 1615,
   "id": "620329a3",
   "metadata": {},
   "outputs": [],
   "source": [
    "#data"
   ]
  },
  {
   "cell_type": "code",
   "execution_count": 1616,
   "id": "03ac13fb",
   "metadata": {},
   "outputs": [],
   "source": [
    "#re=[word for word in data.split(' ') if word not in set(stopwords.words('english'))]\n",
    "\n",
    "#str=' '\n",
    "#for wd in re:\n",
    "#    str=str+wd\n",
    "#    str=str+' '\n",
    "\n",
    "#str"
   ]
  },
  {
   "cell_type": "code",
   "execution_count": 1617,
   "id": "c061aca0",
   "metadata": {},
   "outputs": [],
   "source": [
    "#def remove_stopword(review):\n",
    "#    return' '.join([word for word in review.split(' ') if word not in set(stopwords.words('english'))])"
   ]
  },
  {
   "cell_type": "code",
   "execution_count": 1618,
   "id": "d1759755",
   "metadata": {},
   "outputs": [],
   "source": [
    "#final['Text']=final['Text'].apply(remove_stopword)"
   ]
  },
  {
   "cell_type": "code",
   "execution_count": 1619,
   "id": "7e603bbb",
   "metadata": {},
   "outputs": [],
   "source": [
    "#final['Text'][45]"
   ]
  },
  {
   "cell_type": "code",
   "execution_count": 1620,
   "id": "0431159d",
   "metadata": {},
   "outputs": [],
   "source": [
    "#final['Text'].str.contains('http').sum()"
   ]
  },
  {
   "cell_type": "code",
   "execution_count": 1621,
   "id": "7f234203",
   "metadata": {},
   "outputs": [],
   "source": [
    "#pd.set_option('display.max_row',2000)\n",
    "#final['Text'].str.contains('http')\n"
   ]
  },
  {
   "cell_type": "code",
   "execution_count": 1622,
   "id": "c75a34a7",
   "metadata": {},
   "outputs": [],
   "source": [
    "#review=final['Text'][21]"
   ]
  },
  {
   "cell_type": "code",
   "execution_count": 1623,
   "id": "de345843",
   "metadata": {},
   "outputs": [],
   "source": [
    "#review"
   ]
  },
  {
   "cell_type": "code",
   "execution_count": 1624,
   "id": "64b9668d",
   "metadata": {},
   "outputs": [],
   "source": [
    "#import re"
   ]
  },
  {
   "cell_type": "code",
   "execution_count": 1625,
   "id": "bac4c022",
   "metadata": {},
   "outputs": [],
   "source": [
    "#url_pattern=re.compile(r'href|http.\\w+')\n",
    "#url_pattern.sub(r'',review)"
   ]
  },
  {
   "cell_type": "code",
   "execution_count": 1626,
   "id": "594e2aef",
   "metadata": {},
   "outputs": [],
   "source": [
    "#def remove_url(review):\n",
    "#    url_pattern=re.compile(r'href|http.\\w+')\n",
    "#    return url_pattern.sub(r'',review)"
   ]
  },
  {
   "cell_type": "code",
   "execution_count": 1627,
   "id": "fb1264c9",
   "metadata": {},
   "outputs": [],
   "source": [
    "#final['Text']=final['Text'].apply(remove_url)"
   ]
  },
  {
   "cell_type": "code",
   "execution_count": 1628,
   "id": "2c0a6fe9",
   "metadata": {},
   "outputs": [],
   "source": [
    "#final['Text'][34]"
   ]
  },
  {
   "cell_type": "code",
   "execution_count": 1629,
   "id": "f4644ad9",
   "metadata": {},
   "outputs": [],
   "source": [
    "#final['Text'][34].replace(' br ','')"
   ]
  },
  {
   "cell_type": "code",
   "execution_count": 1630,
   "id": "8aaeedf5",
   "metadata": {},
   "outputs": [],
   "source": [
    "#for i in range (len(final['Text'])):\n",
    "#    final['Text'][i].replace(' br ','')\n",
    "    "
   ]
  },
  {
   "cell_type": "code",
   "execution_count": 1631,
   "id": "1f52f9bb",
   "metadata": {},
   "outputs": [],
   "source": [
    "#final.head()"
   ]
  },
  {
   "cell_type": "code",
   "execution_count": 1632,
   "id": "68c197ba",
   "metadata": {},
   "outputs": [],
   "source": [
    "#comment_words=' '.join(final['Text'])"
   ]
  },
  {
   "cell_type": "code",
   "execution_count": 1633,
   "id": "9263c5fa",
   "metadata": {},
   "outputs": [],
   "source": [
    "#stopwords=set(STOPWORDS)"
   ]
  },
  {
   "cell_type": "code",
   "execution_count": 1634,
   "id": "ee88bc6e",
   "metadata": {},
   "outputs": [],
   "source": [
    "###wordcloud3= WordCloud(width=1000,height=500,stopwords=stopwords).generate(comment_words)\n",
    "#plt.figure(figsize=(15,5))\n",
    "#plt.imshow(wordcloud3)\n",
    "#plt.axis('off')\n"
   ]
  },
  {
   "cell_type": "code",
   "execution_count": null,
   "id": "78ddf0be",
   "metadata": {},
   "outputs": [],
   "source": []
  }
 ],
 "metadata": {
  "kernelspec": {
   "display_name": "Python 3 (ipykernel)",
   "language": "python",
   "name": "python3"
  },
  "language_info": {
   "codemirror_mode": {
    "name": "ipython",
    "version": 3
   },
   "file_extension": ".py",
   "mimetype": "text/x-python",
   "name": "python",
   "nbconvert_exporter": "python",
   "pygments_lexer": "ipython3",
   "version": "3.9.13"
  }
 },
 "nbformat": 4,
 "nbformat_minor": 5
}
