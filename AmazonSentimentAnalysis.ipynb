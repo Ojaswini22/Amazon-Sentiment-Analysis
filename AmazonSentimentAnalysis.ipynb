{
 "cells": [
  {
   "cell_type": "markdown",
   "id": "775f6356",
   "metadata": {},
   "source": [
    " ##### Sentiment analysis is the interpretation and classification of text-based data. The point of this analysis is to categorize each data-point into a class that represents its quality (positive, negative, etc.). Sentiment analysis focuses on the polarity, emotions, and intentions of authors. Classic sentiment analysis consists of the following steps: preprocessing, training, feature extraction,and classification."
   ]
  },
  {
   "cell_type": "markdown",
   "id": "ef655b0d",
   "metadata": {},
   "source": [
    "### Importing data from sqlite database"
   ]
  },
  {
   "cell_type": "code",
   "execution_count": null,
   "id": "bef9d40c",
   "metadata": {},
   "outputs": [],
   "source": [
    "import pandas as pd"
   ]
  },
  {
   "cell_type": "code",
   "execution_count": null,
   "id": "63c12a73",
   "metadata": {},
   "outputs": [],
   "source": [
    "import numpy as np\n",
    "import matplotlib.pyplot as plt\n",
    "import seaborn as sns"
   ]
  },
  {
   "cell_type": "code",
   "execution_count": null,
   "id": "2278a963",
   "metadata": {},
   "outputs": [],
   "source": [
    "import sqlite3"
   ]
  },
  {
   "cell_type": "code",
   "execution_count": null,
   "id": "54684faa",
   "metadata": {},
   "outputs": [],
   "source": [
    "con= sqlite3.connect(r\"C:\\Users\\dines\\Downloads\\database.sqlite\")"
   ]
  },
  {
   "cell_type": "code",
   "execution_count": null,
   "id": "700a8372",
   "metadata": {},
   "outputs": [],
   "source": [
    "df= pd.read_sql_query('SELECT* FROM Reviews',con)"
   ]
  },
  {
   "cell_type": "code",
   "execution_count": null,
   "id": "dc757e14",
   "metadata": {},
   "outputs": [],
   "source": [
    "df.shape"
   ]
  },
  {
   "cell_type": "code",
   "execution_count": null,
   "id": "2776da1f",
   "metadata": {},
   "outputs": [],
   "source": [
    "df.columns"
   ]
  },
  {
   "cell_type": "code",
   "execution_count": null,
   "id": "eba4807d",
   "metadata": {},
   "outputs": [],
   "source": [
    "df.head()"
   ]
  },
  {
   "cell_type": "code",
   "execution_count": null,
   "id": "330e6218",
   "metadata": {},
   "outputs": [],
   "source": [
    "df['HelpfulnessNumerator']>df['HelpfulnessDenominator'] ##invalid row"
   ]
  },
  {
   "cell_type": "code",
   "execution_count": null,
   "id": "08665341",
   "metadata": {},
   "outputs": [],
   "source": [
    "df[df['HelpfulnessNumerator']>df['HelpfulnessDenominator']]"
   ]
  },
  {
   "cell_type": "code",
   "execution_count": null,
   "id": "6b73f7a0",
   "metadata": {},
   "outputs": [],
   "source": [
    "df_valid=df[df['HelpfulnessNumerator']<=df['HelpfulnessDenominator']]"
   ]
  },
  {
   "cell_type": "code",
   "execution_count": null,
   "id": "8fb7ba8e",
   "metadata": {},
   "outputs": [],
   "source": [
    "df_valid.shape"
   ]
  },
  {
   "cell_type": "code",
   "execution_count": null,
   "id": "f2abbe1b",
   "metadata": {},
   "outputs": [],
   "source": [
    "df_valid.duplicated(['UserId','ProfileName','Time','Text'])"
   ]
  },
  {
   "cell_type": "markdown",
   "id": "dccc2e4d",
   "metadata": {},
   "source": [
    "### Performing Sentiment Analysis on Data"
   ]
  },
  {
   "cell_type": "code",
   "execution_count": null,
   "id": "4582d457",
   "metadata": {},
   "outputs": [],
   "source": [
    "df_valid[df_valid.duplicated(['UserId','ProfileName','Time','Text'])]"
   ]
  },
  {
   "cell_type": "code",
   "execution_count": null,
   "id": "5f029d67",
   "metadata": {},
   "outputs": [],
   "source": [
    "data=df_valid.drop_duplicates(subset=['UserId','ProfileName','Time','Text'])"
   ]
  },
  {
   "cell_type": "code",
   "execution_count": null,
   "id": "62217a4e",
   "metadata": {},
   "outputs": [],
   "source": [
    "data.shape"
   ]
  },
  {
   "cell_type": "code",
   "execution_count": null,
   "id": "1bb78bd0",
   "metadata": {},
   "outputs": [],
   "source": [
    "data.dtypes"
   ]
  },
  {
   "cell_type": "code",
   "execution_count": null,
   "id": "ceea681f",
   "metadata": {},
   "outputs": [],
   "source": [
    "data['Time']=pd.to_datetime(data['Time'],unit='s')"
   ]
  },
  {
   "cell_type": "code",
   "execution_count": null,
   "id": "6b97e2f9",
   "metadata": {},
   "outputs": [],
   "source": [
    "import warnings\n",
    "from warnings import filterwarnings\n",
    "filterwarnings('ignore')"
   ]
  },
  {
   "cell_type": "markdown",
   "id": "659fd389",
   "metadata": {},
   "source": [
    " ### What is sentiment analysis?\n",
    "    Sentiment analysis is the computational task of automatically determining what feelings a writer is expressing in text\n",
    "    Some examples of applications for sentiment analysis include:\n",
    "\n",
    "    1.Analyzing the social media discussion around a certain topic\n",
    "    2.Evaluating survey responses\n",
    "    3.Determining whether product reviews are positive or negative\n",
    "\n",
    "    Sentiment analysis is not perfect.It also cannot tell you why a writer is feeling a certain way. However, it can be useful to quickly summarize some qualities of text, especially if you have so much text that a human reader cannot analyze it.For this project,the goal is to to classify Food reviews based on customers' text."
   ]
  },
  {
   "cell_type": "code",
   "execution_count": null,
   "id": "51f8c2e2",
   "metadata": {},
   "outputs": [],
   "source": [
    "!pip install TextBlob\n"
   ]
  },
  {
   "cell_type": "code",
   "execution_count": null,
   "id": "bca75c74",
   "metadata": {},
   "outputs": [],
   "source": [
    "from textblob import TextBlob\n"
   ]
  },
  {
   "cell_type": "code",
   "execution_count": null,
   "id": "a1b241d0",
   "metadata": {},
   "outputs": [],
   "source": [
    "text=df['Summary'][0]"
   ]
  },
  {
   "cell_type": "code",
   "execution_count": null,
   "id": "0c3a18bb",
   "metadata": {},
   "outputs": [],
   "source": [
    "text"
   ]
  },
  {
   "cell_type": "code",
   "execution_count": null,
   "id": "6bce0f0f",
   "metadata": {},
   "outputs": [],
   "source": [
    "TextBlob(text).sentiment.polarity"
   ]
  },
  {
   "cell_type": "code",
   "execution_count": null,
   "id": "63541dae",
   "metadata": {},
   "outputs": [],
   "source": [
    "polarity=[]\n",
    "\n",
    "for i in df['Summary']:\n",
    "    try:\n",
    "        polarity.append( TextBlob(i).sentiment.polarity)\n",
    "    except:\n",
    "        polarity.append(0)"
   ]
  },
  {
   "cell_type": "code",
   "execution_count": null,
   "id": "3e53ca07",
   "metadata": {},
   "outputs": [],
   "source": [
    "len(polarity)"
   ]
  },
  {
   "cell_type": "code",
   "execution_count": null,
   "id": "1fd3e20d",
   "metadata": {},
   "outputs": [],
   "source": [
    "data= df.copy()"
   ]
  },
  {
   "cell_type": "code",
   "execution_count": null,
   "id": "e48aa73a",
   "metadata": {},
   "outputs": [],
   "source": [
    "data['polarity']=polarity"
   ]
  },
  {
   "cell_type": "code",
   "execution_count": null,
   "id": "b08e6e55",
   "metadata": {},
   "outputs": [],
   "source": [
    "data.head()"
   ]
  },
  {
   "cell_type": "markdown",
   "id": "3630266a",
   "metadata": {},
   "source": [
    "### Perform EDA for positive sentences"
   ]
  },
  {
   "cell_type": "code",
   "execution_count": null,
   "id": "1b2fb157",
   "metadata": {},
   "outputs": [],
   "source": [
    "data_positive=data[data['polarity']>0]"
   ]
  },
  {
   "cell_type": "code",
   "execution_count": null,
   "id": "c97c0a0f",
   "metadata": {},
   "outputs": [],
   "source": [
    "data_positive.shape"
   ]
  },
  {
   "cell_type": "code",
   "execution_count": null,
   "id": "ea645ef1",
   "metadata": {},
   "outputs": [],
   "source": [
    "!pip install wordcloud"
   ]
  },
  {
   "cell_type": "code",
   "execution_count": null,
   "id": "7d86da49",
   "metadata": {},
   "outputs": [],
   "source": [
    "from wordcloud import WordCloud,STOPWORDS"
   ]
  },
  {
   "cell_type": "code",
   "execution_count": null,
   "id": "af019316",
   "metadata": {},
   "outputs": [],
   "source": [
    "stopwords=set(STOPWORDS)"
   ]
  },
  {
   "cell_type": "code",
   "execution_count": null,
   "id": "d9358a39",
   "metadata": {},
   "outputs": [],
   "source": [
    "total_text=(''.join(data_positive['Summary']))"
   ]
  },
  {
   "cell_type": "code",
   "execution_count": null,
   "id": "8a069815",
   "metadata": {},
   "outputs": [],
   "source": [
    "total_text"
   ]
  },
  {
   "cell_type": "code",
   "execution_count": null,
   "id": "00655478",
   "metadata": {},
   "outputs": [],
   "source": [
    "import re"
   ]
  },
  {
   "cell_type": "code",
   "execution_count": null,
   "id": "1f5826ee",
   "metadata": {},
   "outputs": [],
   "source": [
    "total_text=re.sub('[^a-zA-Z]',' ',total_text)"
   ]
  },
  {
   "cell_type": "code",
   "execution_count": null,
   "id": "e22a6f93",
   "metadata": {},
   "outputs": [],
   "source": [
    "total_text=re.sub(' +',' ',total_text)"
   ]
  },
  {
   "cell_type": "code",
   "execution_count": null,
   "id": "3ceaa520",
   "metadata": {},
   "outputs": [],
   "source": [
    "total_text[0:10000]"
   ]
  },
  {
   "cell_type": "code",
   "execution_count": null,
   "id": "03714d12",
   "metadata": {},
   "outputs": [],
   "source": [
    "wordcloud= WordCloud(width=1000,height=500,stopwords=stopwords).generate(total_text)\n",
    "plt.figure(figsize=(15,5))\n",
    "plt.imshow(wordcloud)\n",
    "\n"
   ]
  },
  {
   "cell_type": "markdown",
   "id": "9aa0ed3b",
   "metadata": {},
   "source": [
    "### Perform EDA for negative sentences"
   ]
  },
  {
   "cell_type": "code",
   "execution_count": null,
   "id": "4123e203",
   "metadata": {},
   "outputs": [],
   "source": [
    "data_negative=data[data['polarity']<0]"
   ]
  },
  {
   "cell_type": "code",
   "execution_count": null,
   "id": "52ea7022",
   "metadata": {},
   "outputs": [],
   "source": [
    "data_negative.shape"
   ]
  },
  {
   "cell_type": "code",
   "execution_count": null,
   "id": "97832227",
   "metadata": {},
   "outputs": [],
   "source": [
    "total_text2=(''.join(data_negative['Summary']))"
   ]
  },
  {
   "cell_type": "code",
   "execution_count": null,
   "id": "fcf0861e",
   "metadata": {},
   "outputs": [],
   "source": [
    "total_text2=re.sub('[^a-zA-Z]',' ',total_text2)"
   ]
  },
  {
   "cell_type": "code",
   "execution_count": null,
   "id": "985f4b8e",
   "metadata": {},
   "outputs": [],
   "source": [
    "total_text2=re.sub(' +',' ',total_text2)"
   ]
  },
  {
   "cell_type": "code",
   "execution_count": null,
   "id": "5d60b784",
   "metadata": {},
   "outputs": [],
   "source": [
    "wordcloud2= WordCloud(width=1000,height=500,stopwords=stopwords).generate(total_text2)\n",
    "plt.figure(figsize=(15,5))\n",
    "plt.imshow(wordcloud2)\n",
    "plt.axis('off')\n"
   ]
  },
  {
   "cell_type": "markdown",
   "id": "fc692dc5",
   "metadata": {},
   "source": [
    "## Analysing what customers amazon should recommend more products."
   ]
  },
  {
   "cell_type": "markdown",
   "id": "f45a811b",
   "metadata": {},
   "source": [
    "#### Amazon can recommend more products to only those who are going to buy more or to one who has a better conversion rate,so lets ready data according to this problem statement\n",
    "\n"
   ]
  },
  {
   "cell_type": "code",
   "execution_count": null,
   "id": "56852cfb",
   "metadata": {},
   "outputs": [],
   "source": [
    "df['UserId'].nunique()"
   ]
  },
  {
   "cell_type": "code",
   "execution_count": null,
   "id": "97f5140b",
   "metadata": {},
   "outputs": [],
   "source": [
    "df.head()"
   ]
  },
  {
   "cell_type": "code",
   "execution_count": null,
   "id": "1a4bd9b1",
   "metadata": {},
   "outputs": [],
   "source": [
    "raw=df.groupby('UserId').agg({'Summary':'count','Text':'count','Score':'mean','ProductId':'count'}).sort_values(by='Text',ascending=False)"
   ]
  },
  {
   "cell_type": "code",
   "execution_count": null,
   "id": "04a9bbdd",
   "metadata": {},
   "outputs": [],
   "source": [
    "raw"
   ]
  },
  {
   "cell_type": "code",
   "execution_count": null,
   "id": "352a5c8b",
   "metadata": {},
   "outputs": [],
   "source": [
    "raw.columns=['no_of_summary','num_text','avg_score','no_of_prod_purchased']\n",
    "raw"
   ]
  },
  {
   "cell_type": "code",
   "execution_count": null,
   "id": "0337d7a1",
   "metadata": {},
   "outputs": [],
   "source": [
    "user_10=raw.index[0:10]"
   ]
  },
  {
   "cell_type": "code",
   "execution_count": null,
   "id": "3d1cba7c",
   "metadata": {},
   "outputs": [],
   "source": [
    "num_10=raw['no_of_prod_purchased'][0:10]"
   ]
  },
  {
   "cell_type": "code",
   "execution_count": null,
   "id": "a3559397",
   "metadata": {},
   "outputs": [],
   "source": [
    "plt.bar(user_10,num_10,label='most recommended user')\n",
    "plt.xlabel('UserId')\n",
    "plt.ylabel('no_of_prod_purchased')\n",
    "plt.xticks(rotation='vertical')"
   ]
  },
  {
   "cell_type": "markdown",
   "id": "45f4ff68",
   "metadata": {},
   "source": [
    "#### These are the Top 10 Users so we can recommend more & more Prodcuts to these Usser Id as there will be a high probability that these person are going to be buy more\n",
    "\n",
    "\n"
   ]
  },
  {
   "cell_type": "markdown",
   "id": "85cf941e",
   "metadata": {},
   "source": [
    "### Which Product has a good number of reviews"
   ]
  },
  {
   "cell_type": "code",
   "execution_count": null,
   "id": "f838cacb",
   "metadata": {},
   "outputs": [],
   "source": [
    "data['ProductId'].nunique()"
   ]
  },
  {
   "cell_type": "code",
   "execution_count": null,
   "id": "0baeca5d",
   "metadata": {},
   "outputs": [],
   "source": [
    "prod_count=data['ProductId'].value_counts().to_frame()"
   ]
  },
  {
   "cell_type": "code",
   "execution_count": null,
   "id": "e62ddad7",
   "metadata": {},
   "outputs": [],
   "source": [
    "prod_count"
   ]
  },
  {
   "cell_type": "code",
   "execution_count": null,
   "id": "361ff243",
   "metadata": {},
   "outputs": [],
   "source": [
    "prod_count[prod_count['ProductId']>500]"
   ]
  },
  {
   "cell_type": "code",
   "execution_count": null,
   "id": "d2dbafb6",
   "metadata": {},
   "outputs": [],
   "source": [
    "freq_prod_ids=prod_count[prod_count['ProductId']>500].index"
   ]
  },
  {
   "cell_type": "code",
   "execution_count": null,
   "id": "dbf7586b",
   "metadata": {},
   "outputs": [],
   "source": [
    "data['ProductId'].isin(freq_prod_ids)"
   ]
  },
  {
   "cell_type": "code",
   "execution_count": null,
   "id": "c71208ee",
   "metadata": {},
   "outputs": [],
   "source": [
    "freq_prod_df=data[data['ProductId'].isin(freq_prod_ids)]"
   ]
  },
  {
   "cell_type": "code",
   "execution_count": null,
   "id": "ded6ba4d",
   "metadata": {},
   "outputs": [],
   "source": [
    "freq_prod_df"
   ]
  },
  {
   "cell_type": "code",
   "execution_count": null,
   "id": "26cc1779",
   "metadata": {},
   "outputs": [],
   "source": [
    "freq_prod_df.columns"
   ]
  },
  {
   "cell_type": "code",
   "execution_count": null,
   "id": "8723e24a",
   "metadata": {},
   "outputs": [],
   "source": [
    "sns.countplot(y='ProductId', data=freq_prod_df, hue='Score')"
   ]
  },
  {
   "cell_type": "markdown",
   "id": "4e532b7d",
   "metadata": {},
   "source": [
    "### IS there any difference between behaviour of frequent user and not frequent user?"
   ]
  },
  {
   "cell_type": "code",
   "execution_count": null,
   "id": "1682258f",
   "metadata": {},
   "outputs": [],
   "source": [
    "x=data['UserId'].value_counts()"
   ]
  },
  {
   "cell_type": "code",
   "execution_count": null,
   "id": "d74bb1d8",
   "metadata": {},
   "outputs": [],
   "source": [
    "x"
   ]
  },
  {
   "cell_type": "code",
   "execution_count": null,
   "id": "b0f081ff",
   "metadata": {},
   "outputs": [],
   "source": [
    "data['viewer_type']=data['UserId'].apply(lambda user: 'Frequent' if x[user]>50 else 'Not Frequent')"
   ]
  },
  {
   "cell_type": "code",
   "execution_count": null,
   "id": "31faff00",
   "metadata": {},
   "outputs": [],
   "source": [
    "data.head(5)"
   ]
  },
  {
   "cell_type": "code",
   "execution_count": null,
   "id": "6925027c",
   "metadata": {},
   "outputs": [],
   "source": [
    "not_freq_viewer=data[data['viewer_type']=='Not Frequent']\n",
    "freq_viewer=data[data['viewer_type']=='Frequent']"
   ]
  },
  {
   "cell_type": "code",
   "execution_count": null,
   "id": "21e1a3c5",
   "metadata": {},
   "outputs": [],
   "source": [
    "freq_viewer['Score'].value_counts()/len(freq_viewer)*100"
   ]
  },
  {
   "cell_type": "code",
   "execution_count": null,
   "id": "d09528e9",
   "metadata": {},
   "outputs": [],
   "source": [
    "not_freq_viewer['Score'].value_counts()/len(not_freq_viewer)*100"
   ]
  },
  {
   "cell_type": "code",
   "execution_count": null,
   "id": "a7ad2cdd",
   "metadata": {},
   "outputs": [],
   "source": [
    "freq_viewer['Score'].value_counts().plot(kind='bar')"
   ]
  },
  {
   "cell_type": "code",
   "execution_count": null,
   "id": "0080d1d9",
   "metadata": {},
   "outputs": [],
   "source": [
    "not_freq_viewer['Score'].value_counts().plot(kind='bar')"
   ]
  },
  {
   "cell_type": "markdown",
   "id": "a971dce9",
   "metadata": {},
   "source": [
    "### The distribution of ratings among frequent reviewers is similar to that of all reviews. \n",
    "### However, we can see that frequent reviewers give less 5-star reviews and less 1-star review.\n",
    "### Frequent users appear to be more discerning in the sense that they give less extreme reviews than infrequent reviews."
   ]
  },
  {
   "cell_type": "markdown",
   "id": "2d2c6351",
   "metadata": {},
   "source": [
    "## Are frequent users more verbose?"
   ]
  },
  {
   "cell_type": "code",
   "execution_count": null,
   "id": "e2d45a75",
   "metadata": {},
   "outputs": [],
   "source": [
    "data['Text'][0]"
   ]
  },
  {
   "cell_type": "code",
   "execution_count": null,
   "id": "a34a865e",
   "metadata": {},
   "outputs": [],
   "source": [
    "type(data['Text'][0])"
   ]
  },
  {
   "cell_type": "code",
   "execution_count": null,
   "id": "8819740c",
   "metadata": {},
   "outputs": [],
   "source": [
    "type(data['Text'][0].split(' '))"
   ]
  },
  {
   "cell_type": "code",
   "execution_count": null,
   "id": "51aee9f2",
   "metadata": {},
   "outputs": [],
   "source": [
    "len(data['Text'][0].split(' '))"
   ]
  },
  {
   "cell_type": "code",
   "execution_count": null,
   "id": "d24f1639",
   "metadata": {},
   "outputs": [],
   "source": [
    "def calculate_len(text):\n",
    "    return len(text.split(' '))"
   ]
  },
  {
   "cell_type": "code",
   "execution_count": null,
   "id": "1228c1a9",
   "metadata": {},
   "outputs": [],
   "source": [
    "data['Text_lenght']=data['Text'].apply(calculate_len)"
   ]
  },
  {
   "cell_type": "code",
   "execution_count": null,
   "id": "e84de352",
   "metadata": {},
   "outputs": [],
   "source": [
    "not_freq_data=data[data['viewer_type']=='Not Frequent']\n",
    "freq_data=data[data['viewer_type']=='Frequent']"
   ]
  },
  {
   "cell_type": "code",
   "execution_count": null,
   "id": "f8fe3aa7",
   "metadata": {},
   "outputs": [],
   "source": [
    "not_freq_data"
   ]
  },
  {
   "cell_type": "code",
   "execution_count": null,
   "id": "737ea03f",
   "metadata": {},
   "outputs": [],
   "source": [
    "fig=plt.figure()\n",
    "ax1=fig.add_subplot(121)\n",
    "ax1.boxplot(freq_data['Text_lenght'])\n",
    "ax1.set_xlabel('frequency of frequent reviewers')\n",
    "\n",
    "ax2=fig.add_subplot(122)\n",
    "ax2.boxplot(not_freq_data['Text_lenght'])\n",
    "ax2.set_xlabel('frequency of not frequent reviewers')\n"
   ]
  },
  {
   "cell_type": "markdown",
   "id": "f6c5ae10",
   "metadata": {},
   "source": [
    "#### The distributions of word counts for frequent and infrequent reviews shows that \n",
    "#### infrequent reviewers have a large amount of reviews of low word count.\n",
    "#### On the other hand, the largest concentration of word count is higher for frequent reviewers than for infrequent reviews. \n"
   ]
  },
  {
   "cell_type": "markdown",
   "id": "d580fb11",
   "metadata": {},
   "source": [
    "### Analyse Length of Comments whether Customers are going to give Lengthy comments or short one\n"
   ]
  },
  {
   "cell_type": "code",
   "execution_count": null,
   "id": "171a85df",
   "metadata": {},
   "outputs": [],
   "source": [
    "final=df[0:2000]"
   ]
  },
  {
   "cell_type": "code",
   "execution_count": null,
   "id": "0760b5c7",
   "metadata": {},
   "outputs": [],
   "source": [
    "final.head()"
   ]
  },
  {
   "cell_type": "code",
   "execution_count": null,
   "id": "c9bd12ae",
   "metadata": {},
   "outputs": [],
   "source": [
    "final.isnull().sum()"
   ]
  },
  {
   "cell_type": "code",
   "execution_count": null,
   "id": "ecf9d2fe",
   "metadata": {},
   "outputs": [],
   "source": [
    "final.duplicated().sum()"
   ]
  },
  {
   "cell_type": "code",
   "execution_count": null,
   "id": "6bc2b40f",
   "metadata": {},
   "outputs": [],
   "source": [
    "len(final['Text'][0].split(' '))"
   ]
  },
  {
   "cell_type": "code",
   "execution_count": null,
   "id": "752856ea",
   "metadata": {},
   "outputs": [],
   "source": [
    "def calc_length(text):\n",
    "    return len(text.split(' '))"
   ]
  },
  {
   "cell_type": "code",
   "execution_count": null,
   "id": "107f77cb",
   "metadata": {},
   "outputs": [],
   "source": [
    "final['Text_length']=final['Text'].apply(calc_length)"
   ]
  },
  {
   "cell_type": "code",
   "execution_count": null,
   "id": "a9f254d0",
   "metadata": {},
   "outputs": [],
   "source": [
    "import plotly.express as px"
   ]
  },
  {
   "cell_type": "code",
   "execution_count": null,
   "id": "f5e3a370",
   "metadata": {},
   "outputs": [],
   "source": [
    "px.box(final,y='Text_length')"
   ]
  },
  {
   "cell_type": "markdown",
   "id": "6d5be4f0",
   "metadata": {},
   "source": [
    "#### Conclusion-->>\n",
    "    Seems to have Almost 50 percent users are going to give their Feedback limited to 50 words whereas there are only few users who are going give Lengthy Feedbacks"
   ]
  },
  {
   "cell_type": "markdown",
   "id": "9bf50670",
   "metadata": {},
   "source": [
    "### Analysing score"
   ]
  },
  {
   "cell_type": "code",
   "execution_count": null,
   "id": "35f89b96",
   "metadata": {},
   "outputs": [],
   "source": [
    "sns.countplot(final['Score'])"
   ]
  },
  {
   "cell_type": "markdown",
   "id": "e3d8471a",
   "metadata": {},
   "source": [
    "### Analysing behavior of customers"
   ]
  },
  {
   "cell_type": "markdown",
   "id": "1079c5a1",
   "metadata": {},
   "source": [
    "### Text preprocessing"
   ]
  },
  {
   "cell_type": "code",
   "execution_count": null,
   "id": "57a2b699",
   "metadata": {},
   "outputs": [],
   "source": [
    "final['Text'][0]"
   ]
  },
  {
   "cell_type": "code",
   "execution_count": null,
   "id": "da4efe0b",
   "metadata": {},
   "outputs": [],
   "source": [
    "final['Text']=final['Text'].str.lower()"
   ]
  },
  {
   "cell_type": "code",
   "execution_count": null,
   "id": "002e2481",
   "metadata": {},
   "outputs": [],
   "source": [
    "data=final['Text'][164]"
   ]
  },
  {
   "cell_type": "code",
   "execution_count": null,
   "id": "29f4bc09",
   "metadata": {},
   "outputs": [],
   "source": [
    "punctuation= '''@!#$%^*()<:;{}?/[]'''\n",
    "data= final['Text'][164]\n",
    "no_punc =''\n",
    "for char in data:\n",
    "    if char not in punctuation:\n",
    "        no_punc=no_punc+char\n",
    "no_punc\n",
    "    "
   ]
  },
  {
   "cell_type": "code",
   "execution_count": null,
   "id": "521a6784",
   "metadata": {},
   "outputs": [],
   "source": [
    "import string\n",
    "punctuations=string.punctuation\n",
    "\n",
    "def remove_punc(review):\n",
    "    no_punc =''\n",
    "    for char in review:\n",
    "        if char not in punctuations:\n",
    "            no_punc=no_punc+char\n",
    "    return no_punc"
   ]
  },
  {
   "cell_type": "code",
   "execution_count": null,
   "id": "b8479dd9",
   "metadata": {},
   "outputs": [],
   "source": [
    "final['Text']=final['Text'].apply(remove_punc)"
   ]
  },
  {
   "cell_type": "code",
   "execution_count": null,
   "id": "10218a4d",
   "metadata": {},
   "outputs": [],
   "source": [
    "final.head()\n"
   ]
  },
  {
   "cell_type": "code",
   "execution_count": null,
   "id": "4aebec12",
   "metadata": {},
   "outputs": [],
   "source": [
    "import nltk\n",
    "from nltk.corpus import stopwords"
   ]
  },
  {
   "cell_type": "code",
   "execution_count": null,
   "id": "fa766726",
   "metadata": {},
   "outputs": [],
   "source": [
    "data=final['Text'][164]"
   ]
  },
  {
   "cell_type": "code",
   "execution_count": null,
   "id": "620329a3",
   "metadata": {},
   "outputs": [],
   "source": [
    "data"
   ]
  },
  {
   "cell_type": "code",
   "execution_count": null,
   "id": "03ac13fb",
   "metadata": {},
   "outputs": [],
   "source": [
    "re=[word for word in data.split(' ') if word not in set(stopwords.words('english'))]\n",
    "\n",
    "str=' '\n",
    "for wd in re:\n",
    "    str=str+wd\n",
    "    str=str+' '\n",
    "\n",
    "str"
   ]
  },
  {
   "cell_type": "code",
   "execution_count": null,
   "id": "c061aca0",
   "metadata": {},
   "outputs": [],
   "source": [
    "def remove_stopword(review):\n",
    "    return' '.join([word for word in review.split(' ') if word not in set(stopwords.words('english'))])"
   ]
  },
  {
   "cell_type": "code",
   "execution_count": null,
   "id": "d1759755",
   "metadata": {},
   "outputs": [],
   "source": [
    "final['Text']=final['Text'].apply(remove_stopword)"
   ]
  },
  {
   "cell_type": "code",
   "execution_count": null,
   "id": "7e603bbb",
   "metadata": {},
   "outputs": [],
   "source": [
    "final['Text'][45]"
   ]
  },
  {
   "cell_type": "code",
   "execution_count": null,
   "id": "0431159d",
   "metadata": {},
   "outputs": [],
   "source": [
    "final['Text'].str.contains('http').sum()"
   ]
  },
  {
   "cell_type": "code",
   "execution_count": null,
   "id": "7f234203",
   "metadata": {},
   "outputs": [],
   "source": [
    "pd.set_option('display.max_row',2000)\n",
    "final['Text'].str.contains('http')\n"
   ]
  },
  {
   "cell_type": "code",
   "execution_count": null,
   "id": "c75a34a7",
   "metadata": {},
   "outputs": [],
   "source": [
    "review=final['Text'][21]"
   ]
  },
  {
   "cell_type": "code",
   "execution_count": null,
   "id": "de345843",
   "metadata": {},
   "outputs": [],
   "source": [
    "review"
   ]
  },
  {
   "cell_type": "code",
   "execution_count": null,
   "id": "64b9668d",
   "metadata": {},
   "outputs": [],
   "source": [
    "import re"
   ]
  },
  {
   "cell_type": "code",
   "execution_count": null,
   "id": "bac4c022",
   "metadata": {},
   "outputs": [],
   "source": [
    "url_pattern=re.compile(r'href|http.\\w+')\n",
    "url_pattern.sub(r'',review)"
   ]
  },
  {
   "cell_type": "code",
   "execution_count": null,
   "id": "594e2aef",
   "metadata": {},
   "outputs": [],
   "source": [
    "def remove_url(review):\n",
    "    url_pattern=re.compile(r'href|http.\\w+')\n",
    "    return url_pattern.sub(r'',review)"
   ]
  },
  {
   "cell_type": "code",
   "execution_count": null,
   "id": "fb1264c9",
   "metadata": {},
   "outputs": [],
   "source": [
    "final['Text']=final['Text'].apply(remove_url)"
   ]
  },
  {
   "cell_type": "code",
   "execution_count": null,
   "id": "2c0a6fe9",
   "metadata": {},
   "outputs": [],
   "source": [
    "final['Text'][34]"
   ]
  },
  {
   "cell_type": "code",
   "execution_count": null,
   "id": "f4644ad9",
   "metadata": {},
   "outputs": [],
   "source": [
    "final['Text'][34].replace(' br ','')"
   ]
  },
  {
   "cell_type": "code",
   "execution_count": null,
   "id": "8aaeedf5",
   "metadata": {},
   "outputs": [],
   "source": [
    "for i in range (len(final['Text'])):\n",
    "    final['Text'][i].replace(' br ','')\n",
    "    "
   ]
  },
  {
   "cell_type": "code",
   "execution_count": null,
   "id": "1f52f9bb",
   "metadata": {},
   "outputs": [],
   "source": [
    "final.head()"
   ]
  },
  {
   "cell_type": "code",
   "execution_count": null,
   "id": "68c197ba",
   "metadata": {},
   "outputs": [],
   "source": [
    "comment_words=' '.join(final['Text'])"
   ]
  },
  {
   "cell_type": "code",
   "execution_count": null,
   "id": "9263c5fa",
   "metadata": {},
   "outputs": [],
   "source": [
    "stopwords=set(STOPWORDS)"
   ]
  },
  {
   "cell_type": "code",
   "execution_count": null,
   "id": "ee88bc6e",
   "metadata": {},
   "outputs": [],
   "source": [
    "wordcloud3= WordCloud(width=1000,height=500,stopwords=stopwords).generate(comment_words)\n",
    "plt.figure(figsize=(15,5))\n",
    "plt.imshow(wordcloud3)\n",
    "plt.axis('off')\n"
   ]
  }
 ],
 "metadata": {
  "kernelspec": {
   "display_name": "Python 3 (ipykernel)",
   "language": "python",
   "name": "python3"
  },
  "language_info": {
   "codemirror_mode": {
    "name": "ipython",
    "version": 3
   },
   "file_extension": ".py",
   "mimetype": "text/x-python",
   "name": "python",
   "nbconvert_exporter": "python",
   "pygments_lexer": "ipython3",
   "version": "3.11.0"
  }
 },
 "nbformat": 4,
 "nbformat_minor": 5
}
